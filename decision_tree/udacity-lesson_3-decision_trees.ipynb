{
 "cells": [
  {
   "cell_type": "markdown",
   "metadata": {},
   "source": [
    "## Information Gain & Entropy\n",
    "\n",
    "How a decision tree classifier chooses to  **split** the data can be based on **entropy** (i.e. a measure of the purity in the data set)\n",
    "\n",
    "information gain = entropy(parent) - [weight avg]entropy(children)\n",
    "\n",
    "entropy = sum(-p_i log_2 p_i)\n",
    "\n",
    "![entropy](./figures/entropy.png)\n",
    "\n",
    "## Remember ==> Entropy is a measure of **purity**\n",
    "\n",
    "| Entropy value | Entropy | Description\n",
    "| ---- | ----- | ----- |\n",
    "| 0.0 | Min entropy | Data is purely one data type (i.e. all the same) |\n",
    "| 1.0 | Max entropy | Data is mixture of data types split evenly |\n"
   ]
  },
  {
   "cell_type": "code",
   "execution_count": 11,
   "metadata": {
    "collapsed": false
   },
   "outputs": [
    {
     "name": "stdout",
     "output_type": "stream",
     "text": [
      "0.918295834054\n"
     ]
    }
   ],
   "source": [
    "def calculate(x):\n",
    "    from math import log\n",
    "    return -x * log(x,2)\n",
    "\n",
    "\n",
    "print calculate(float(2)/float(3)) \\\n",
    "      + calculate(float(1)/float(3))"
   ]
  },
  {
   "cell_type": "markdown",
   "metadata": {},
   "source": [
    "### What's the information gain if you were to split based on 'grade'?\n",
    "\n",
    "info_gain = entropy(parent) - [weighted_avg]entropy(children)\n",
    " - entropy(parent='speed')      = 1.0\n",
    " - [weight_avg]entropy(children='grade') =(3/4)(0.9184) + (1/4)(0.0) \n",
    "\n"
   ]
  },
  {
   "cell_type": "code",
   "execution_count": 16,
   "metadata": {
    "collapsed": false
   },
   "outputs": [
    {
     "name": "stdout",
     "output_type": "stream",
     "text": [
      "Answer: 0.3112\n"
     ]
    }
   ],
   "source": [
    "print \"Answer:\", 1 - (0.75*0.9184)"
   ]
  },
  {
   "cell_type": "code",
   "execution_count": null,
   "metadata": {
    "collapsed": true
   },
   "outputs": [],
   "source": []
  }
 ],
 "metadata": {
  "kernelspec": {
   "display_name": "Python 2",
   "language": "python",
   "name": "python2"
  },
  "language_info": {
   "codemirror_mode": {
    "name": "ipython",
    "version": 2
   },
   "file_extension": ".py",
   "mimetype": "text/x-python",
   "name": "python",
   "nbconvert_exporter": "python",
   "pygments_lexer": "ipython2",
   "version": "2.7.10"
  }
 },
 "nbformat": 4,
 "nbformat_minor": 0
}
