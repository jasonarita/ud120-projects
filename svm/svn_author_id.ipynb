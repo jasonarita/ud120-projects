{
 "cells": [
  {
   "cell_type": "markdown",
   "metadata": {},
   "source": [
    "## Concepts\n",
    " - **Margin:** distance from decision boundary line to nearest data point\n",
    "   - SVMs maximize margin for all categorical data points\n",
    " - **Kernels**\n",
    " - **Decision rule**\n",
    " - Input parameters for SVMs\n",
    "   - C: tradeoff factor b/w **smooth decision boundary** and **classifying training points correctly.** Higher C means more curvy/correctly classified training points\n",
    "   - gamma\n",
    "\n",
    "<br>\n",
    "## Links \n",
    " - [SVM w/ polynomial kernel visualization](https://www.youtube.com/watch?v=3liCbRZPrZA)\n",
    " - [MIT 6.034 AI: Support Vector Machines](https://youtu.be/_PwhiWxHK8o)\n",
    " - [5 mins. w/ Ingo: SVMs](https://youtu.be/YsiWisFFruY?t=2m30s)\n",
    "\n",
    "    "
   ]
  },
  {
   "cell_type": "code",
   "execution_count": 40,
   "metadata": {
    "collapsed": false
   },
   "outputs": [
    {
     "name": "stdout",
     "output_type": "stream",
     "text": [
      "no. of Chris training emails: 7936\n",
      "no. of Sara training emails: 7884\n",
      "Model accuracy:\t  0.990898748578\n",
      "Training time:\t  1.60452 min\n",
      "Predicting time:  0.15774 min\n"
     ]
    }
   ],
   "source": [
    "#!/usr/bin/python\n",
    "\n",
    "\"\"\" \n",
    "    This is the code to accompany the Lesson 2 (SVM) mini-project.\n",
    "\n",
    "    Use a SVM to identify emails from the Enron corpus by their authors:    \n",
    "    Sara has label 0\n",
    "    Chris has label 1\n",
    "\"\"\"\n",
    "    \n",
    "import sys\n",
    "from time import time\n",
    "sys.path.append(\"../tools/\")\n",
    "from email_preprocess import preprocess\n",
    "\n",
    "\n",
    "### features_train and features_test are the features for the training\n",
    "### and testing datasets, respectively\n",
    "### labels_train and labels_test are the corresponding item labels\n",
    "features_train, features_test, labels_train, labels_test = preprocess()\n",
    "\n",
    "#########################################################\n",
    "### your code goes here ###\n",
    "\n",
    "# Import classifier library\n",
    "# Create classifier\n",
    "# Train classifier\n",
    "# Make predictions via classifier\n",
    "# Test accuracy\n",
    "\n",
    "from sklearn.svm import SVC\n",
    "\n",
    "clf = SVC(kernel=\"rbf\" \\\n",
    "         , C=10000.0)\n",
    "\n",
    "# Pare down the training set\n",
    "# features_train = features_train[:len(features_train)/100]\n",
    "# labels_train   = labels_train[:len(labels_train)/100]\n",
    "\n",
    "# Train\n",
    "t0 = time()\n",
    "clf.fit(features_train, labels_train)\n",
    "time_training = time()-t0\n",
    "\n",
    "\n",
    "# Predict\n",
    "t0 = time()\n",
    "labels_predictions = clf.predict(features_test)\n",
    "time_predicting = time()-t0\n",
    "\n",
    "# check accuracy\n",
    "from sklearn.metrics import accuracy_score\n",
    "clf_accuracy = accuracy_score(labels_predictions, labels_test)\n",
    "print \"Model accuracy:\\t \", clf_accuracy\n",
    "print \"Training time:\\t \", round(time_training/60, 5), \"min\"\n",
    "print \"Predicting time: \", round(time_predicting/60, 5), \"min\"\n",
    "#########################################################"
   ]
  },
  {
   "cell_type": "markdown",
   "metadata": {},
   "source": [
    "## What class does your SVM (0 or 1, corresponding to Sara and Chris respectively) predict for element 10 of the test set? The 26th? The 50th? \n",
    "*(Use the RBF kernel, C=10000, and 1% of the training set. Normally you'd get the best results using the full training set, but we found that using 1% sped up the computation considerably and did not change our results--so feel free to use that shortcut here.)*\n",
    "\n",
    "And just to be clear, the data point numbers that we give here (10, 26, 50) assume a zero-indexed list. So the correct answer for element #100 would be found using something like answer=predictions[100]"
   ]
  },
  {
   "cell_type": "code",
   "execution_count": 46,
   "metadata": {
    "collapsed": false,
    "scrolled": true
   },
   "outputs": [
    {
     "name": "stdout",
     "output_type": "stream",
     "text": [
      "Predictions:\n",
      "10:  Chris\n",
      "26:  Sara\n",
      "50:  Chris\n"
     ]
    }
   ],
   "source": [
    "print \"Predictions:\"\n",
    "print \"10: \", \"Chris\" if labels_predictions[10]==1 else \"Sara\"\n",
    "print \"26: \", \"Chris\" if labels_predictions[26]==1 else \"Sara\"\n",
    "print \"50: \", \"Chris\" if labels_predictions[50]==1 else \"Sara\""
   ]
  },
  {
   "cell_type": "markdown",
   "metadata": {},
   "source": [
    "## There are over 1700 test events--how many are predicted to be in the “Chris” (1) class? \n",
    "*(Use the RBF kernel, C=10000., and the full training set.)*"
   ]
  },
  {
   "cell_type": "code",
   "execution_count": 42,
   "metadata": {
    "collapsed": false
   },
   "outputs": [
    {
     "data": {
      "text/plain": [
       "877"
      ]
     },
     "execution_count": 42,
     "metadata": {},
     "output_type": "execute_result"
    }
   ],
   "source": [
    "labels_predictions.sum()"
   ]
  }
 ],
 "metadata": {
  "kernelspec": {
   "display_name": "Python 2",
   "language": "python",
   "name": "python2"
  },
  "language_info": {
   "codemirror_mode": {
    "name": "ipython",
    "version": 2
   },
   "file_extension": ".py",
   "mimetype": "text/x-python",
   "name": "python",
   "nbconvert_exporter": "python",
   "pygments_lexer": "ipython2",
   "version": "2.7.10"
  }
 },
 "nbformat": 4,
 "nbformat_minor": 0
}
